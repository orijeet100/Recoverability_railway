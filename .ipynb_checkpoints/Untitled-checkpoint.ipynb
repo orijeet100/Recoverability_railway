{
 "cells": [
  {
   "cell_type": "code",
   "execution_count": 36,
   "id": "33342fcb",
   "metadata": {},
   "outputs": [],
   "source": [
    "import os\n",
    "import pickle\n",
    "import networkx as nx\n",
    "from scipy import integrate\n",
    "import numpy as np\n",
    "from scipy.stats import t\n",
    "import math"
   ]
  },
  {
   "cell_type": "code",
   "execution_count": 11,
   "id": "e64457d2",
   "metadata": {},
   "outputs": [],
   "source": [
    "def load_graph(path):\n",
    "    with open(path, 'rb') as f:\n",
    "        G = pickle.load(f)\n",
    "        return G"
   ]
  },
  {
   "cell_type": "code",
   "execution_count": 12,
   "id": "6de74e56",
   "metadata": {},
   "outputs": [],
   "source": [
    "def load_results_step(network,step):\n",
    "    if os.path.isfile(\"exps/exps_%s_%d.pickle\"%(network,step)): \n",
    "        with (open(\"exps/exps_%s_%d.pickle\"%(network,step), \"rb\")) as openfile:\n",
    "            return pickle.load(openfile)\n",
    "    else:\n",
    "        return False"
   ]
  },
  {
   "cell_type": "code",
   "execution_count": 13,
   "id": "db83930d",
   "metadata": {},
   "outputs": [],
   "source": [
    "def get_number_runs(network):\n",
    "    runs=[]\n",
    "    for i in os.listdir(\"exps/\"):\n",
    "        sub=i.split(\"_\")\n",
    "        if sub[1]==network:\n",
    "            runs.append(sub[2].split(\".\")[0])\n",
    "    assert int(sorted(runs)[-1])==len(runs)-1\n",
    "    return int(sorted(runs)[-1])+1"
   ]
  },
  {
   "cell_type": "code",
   "execution_count": 20,
   "id": "ad3daf18",
   "metadata": {},
   "outputs": [],
   "source": [
    "def min_exec(network, MIN_EXEC):\n",
    "    sfs_list=compute_sfs(network,1.0)\n",
    "    std=np.std(sfs_list[:MIN_EXEC])\n",
    "    mean=np.mean(sfs_list[:MIN_EXEC])\n",
    "    epsilon=.05\n",
    "    alpha=.05\n",
    "    N=((std*(t.ppf(1-(alpha/2), MIN_EXEC-1)))/(mean*epsilon))**2\n",
    "    return math.ceil(N)"
   ]
  },
  {
   "cell_type": "code",
   "execution_count": 14,
   "id": "f4ca9ff3",
   "metadata": {},
   "outputs": [],
   "source": [
    "def gather_results(network, low_memory=False, N_EXEC=0):\n",
    "    if not N_EXEC:\n",
    "        N_EXEC=get_number_runs(network)\n",
    "    res={network:{}}\n",
    "    res[network][\"fails\"]={}\n",
    "    res[network][\"recs\"]={}\n",
    "    for i in range(N_EXEC):\n",
    "        aux=load_results_step(network,i)\n",
    "        res[network][\"fails\"][i]=aux[network][\"fails\"][i]\n",
    "        res[network][\"recs\"][i]=aux[network][\"recs\"][i]\n",
    "        \n",
    "    if low_memory:\n",
    "        #recs\n",
    "        for i in res[network][\"recs\"]:\n",
    "            for e in res[network][\"recs\"][i]:\n",
    "                del res[network][\"recs\"][i][e][\"added_edges\"]\n",
    "                del res[network][\"recs\"][i][e][\"Gfail\"]            \n",
    "        #fails\n",
    "        for i in res[network][\"fails\"]:\n",
    "            del res[network][\"fails\"][i][\"G\"]\n",
    "            del res[network][\"fails\"][i][\"removed_edges\"]\n",
    "    return res"
   ]
  },
  {
   "cell_type": "code",
   "execution_count": 25,
   "id": "b4204c9d",
   "metadata": {},
   "outputs": [],
   "source": [
    "def number_of_edges(network):\n",
    "    return len(Ls[network].edges())"
   ]
  },
  {
   "cell_type": "code",
   "execution_count": 27,
   "id": "152f745b",
   "metadata": {},
   "outputs": [],
   "source": [
    "def number_of_runs(network):\n",
    "    return len(exps[network][\"fails\"])"
   ]
  },
  {
   "cell_type": "code",
   "execution_count": 22,
   "id": "d681e3dd",
   "metadata": {},
   "outputs": [],
   "source": [
    "def compute_sfs(network, percentage):\n",
    "    steps=round(number_of_edges(network)*percentage)\n",
    "    sfs=[]\n",
    "    for i in range(number_of_runs(network)):\n",
    "        aux=exps[network][\"fails\"][i][\"Reg\"][:steps+1]\n",
    "        sf=integrate.trapezoid([1-x for x in aux],dx=100/number_of_edges(network))\n",
    "        sfs.append(sf)\n",
    "    return sfs"
   ]
  },
  {
   "cell_type": "code",
   "execution_count": 23,
   "id": "7bdd8a3a",
   "metadata": {},
   "outputs": [],
   "source": [
    "def compute_srs(network, percentage):\n",
    "    steps=round(number_of_edges(network)*percentage)\n",
    "    srs=[]\n",
    "    for i in range(number_of_runs(network)):\n",
    "        aux=exps[network][\"recs\"][i][steps][\"Reg\"]\n",
    "        last_fail=exps[network][\"fails\"][i][\"Reg\"][steps]\n",
    "        sr=integrate.trapezoid([last_fail]+aux, dx=100/number_of_edges(network))\n",
    "        srs.append(sr)\n",
    "    return srs"
   ]
  },
  {
   "cell_type": "code",
   "execution_count": 15,
   "id": "5915142c",
   "metadata": {},
   "outputs": [],
   "source": [
    "nws = ['amsterdam', 'athens', 'atlanta', 'baltimore', 'berlin', 'bilbao', 'boston', 'brussels', 'budapest', 'buenosaires', \n",
    "       'cairo', 'chicago', 'cleveland', 'copenhagen', 'dubai', 'genoa', 'helsinki', 'hyderabad', 'kobe', 'kochi', 'lille',\n",
    "       'lisbon', 'london', 'losangeles', 'lyon', 'madrid', 'malaga', 'marseille', 'milan', 'montreal','naples', 'newyork',\n",
    "       'nuremberg', 'oslo', 'paris', 'philadelphia', 'prague', 'rennes', 'rome', 'rotterdam', 'sanfrancisco', 'santiago',\n",
    "       'stockholm', 'toronto', 'toulouse', 'turin', 'valencia', 'vancouver', 'vienna', 'warsaw', 'washington']\n",
    "\n",
    "excepted_nws=[#\"philadelphia\"\n",
    "]\n",
    "\n",
    "nws_size=[]\n",
    "for network in list(set(nws)-set(excepted_nws)):    \n",
    "    L = load_graph(\"spaces/L/L-%s.pkl\"%network)\n",
    "    size = len(L.edges())\n",
    "    nws_size.append((network,size))\n",
    "nws_size=sorted(nws_size, key=lambda x:x[1])\n",
    "    \n",
    "# KEEP ONLY NETWORKS WITH AT LEAST 50 nodes\n",
    "nws_size=[a for a in nws_size if a[1]>=50]"
   ]
  },
  {
   "cell_type": "code",
   "execution_count": null,
   "id": "83c65be6",
   "metadata": {},
   "outputs": [
    {
     "name": "stdout",
     "output_type": "stream",
     "text": [
      "kobe\n",
      "naples\n",
      "marseille\n",
      "warsaw\n",
      "toulouse\n",
      "atlanta\n",
      "copenhagen\n",
      "lyon\n",
      "amsterdam\n",
      "bilbao\n",
      "budapest\n",
      "nuremberg\n",
      "sanfrancisco\n",
      "boston\n",
      "lisbon\n",
      "dubai\n",
      "vancouver\n",
      "philadelphia\n",
      "hyderabad\n",
      "prague\n",
      "brussels\n",
      "lille\n",
      "cairo\n",
      "athens\n",
      "montreal\n",
      "rotterdam\n",
      "rome\n",
      "toronto\n",
      "buenosaires\n",
      "washington\n",
      "valencia\n",
      "stockholm\n",
      "oslo\n",
      "vienna\n",
      "milan\n",
      "chicago\n",
      "santiago\n",
      "berlin\n",
      "madrid\n"
     ]
    }
   ],
   "source": [
    "INITIAL_EXEC=10\n",
    "exps={}\n",
    "Ls={}\n",
    "\n",
    "mean_sfs={}\n",
    "mean_srs={}\n",
    "#mean_inv_srs={}\n",
    "\n",
    "for f in [.25,.5,.75,1]:\n",
    "    mean_sfs[f]={}\n",
    "    mean_srs[f]={}\n",
    "#    mean_inv_srs[f]={}\n",
    "\n",
    "for nw, _ in nws_size:\n",
    "#for nw in [\"copenhagen\"]:\n",
    "    print(nw)\n",
    "    #Plot graphs\n",
    "    Ls[nw]=load_graph(\"spaces/L/L-%s.pkl\"%nw)\n",
    "    #plot_graph(Ls[nw], export_name=\"img/graphs/%s.png\"%nw)\n",
    "    #plot_graph(Ls[nw], back_map=\"OSM\", export_name=\"img/graphs_map/%s.png\"%nw)\n",
    "\n",
    "    #Load results\n",
    "    res=gather_results(nw, low_memory=True)\n",
    "    \n",
    "    exps.update(res)\n",
    "    \n",
    "    #Check enough executions were done\n",
    "    min_ind_exec=min_exec(nw,INITIAL_EXEC)\n",
    "    assert max(INITIAL_EXEC,min_ind_exec)==number_of_runs(nw)\n",
    "        \n",
    "    for f in [.25,.5,.75,1]:\n",
    "        #Plot bathtub plot\n",
    "        #plot_mean_complete(nw,f)\n",
    "        mean_sfs[f][nw]=np.mean(compute_sfs(nw,f))\n",
    "        mean_srs[f][nw]=np.mean(compute_srs(nw,f))\n",
    "        #mean_inv_srs[f][nw]=np.mean(compute_inv_srs(nw,f))"
   ]
  },
  {
   "cell_type": "code",
   "execution_count": null,
   "id": "01d14b73",
   "metadata": {},
   "outputs": [],
   "source": []
  }
 ],
 "metadata": {
  "kernelspec": {
   "display_name": "Python 3 (ipykernel)",
   "language": "python",
   "name": "python3"
  },
  "language_info": {
   "codemirror_mode": {
    "name": "ipython",
    "version": 3
   },
   "file_extension": ".py",
   "mimetype": "text/x-python",
   "name": "python",
   "nbconvert_exporter": "python",
   "pygments_lexer": "ipython3",
   "version": "3.11.5"
  }
 },
 "nbformat": 4,
 "nbformat_minor": 5
}
